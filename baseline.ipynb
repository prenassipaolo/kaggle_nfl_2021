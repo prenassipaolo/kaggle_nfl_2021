{
 "cells": [
  {
   "cell_type": "markdown",
   "metadata": {},
   "source": [
    "### IMPORTS"
   ]
  },
  {
   "cell_type": "code",
   "execution_count": 1,
   "metadata": {},
   "outputs": [],
   "source": [
    "import pandas as pd\n",
    "# auxiliary funtions\n",
    "from utils import score, display, syncing, labelling\n",
    "from utils import football_field as ff"
   ]
  },
  {
   "cell_type": "code",
   "execution_count": 2,
   "metadata": {},
   "outputs": [],
   "source": [
    "DEBUG = False"
   ]
  },
  {
   "cell_type": "markdown",
   "metadata": {},
   "source": [
    "### LOAD DATA"
   ]
  },
  {
   "cell_type": "code",
   "execution_count": 3,
   "metadata": {},
   "outputs": [],
   "source": [
    "# Read in data files\n",
    "DATA_DIR = 'data/nfl-health-and-safety-helmet-assignment'"
   ]
  },
  {
   "cell_type": "code",
   "execution_count": 4,
   "metadata": {},
   "outputs": [],
   "source": [
    "# Labels and sample submission\n",
    "labels = pd.read_csv(f'{DATA_DIR}/train_labels.csv')\n",
    "ss = pd.read_csv(f'{DATA_DIR}/sample_submission.csv')\n",
    "\n",
    "# Player tracking data\n",
    "tr_tracking = pd.read_csv(f'{DATA_DIR}/train_player_tracking.csv')\n",
    "te_tracking = pd.read_csv(f'{DATA_DIR}/test_player_tracking.csv')\n",
    "\n",
    "# Baseline helmet detection labels\n",
    "tr_helmets = pd.read_csv(f'{DATA_DIR}/train_baseline_helmets.csv')\n",
    "te_helmets = pd.read_csv(f'{DATA_DIR}/test_baseline_helmets.csv')\n",
    "\n",
    "# Extra image labels\n",
    "img_labels = pd.read_csv(f'{DATA_DIR}/image_labels.csv')"
   ]
  },
  {
   "cell_type": "code",
   "execution_count": 5,
   "metadata": {},
   "outputs": [
    {
     "name": "stdout",
     "output_type": "stream",
     "text": [
      "SUBMISSION_COLUMNS: ['video_frame' 'label' 'left' 'width' 'top' 'height']\n"
     ]
    }
   ],
   "source": [
    "SUBMISSION_COLUMNS = ss.columns # Expected submission columns\n",
    "print(f'SUBMISSION_COLUMNS: {SUBMISSION_COLUMNS.values}')"
   ]
  },
  {
   "cell_type": "markdown",
   "metadata": {},
   "source": [
    "### SCORE"
   ]
  },
  {
   "cell_type": "code",
   "execution_count": 6,
   "metadata": {},
   "outputs": [
    {
     "data": {
      "text/plain": [
       "True"
      ]
     },
     "execution_count": 6,
     "metadata": {},
     "output_type": "execute_result"
    }
   ],
   "source": [
    "# The sample submission meets these requirements.\n",
    "score.check_submission(ss)"
   ]
  },
  {
   "cell_type": "code",
   "execution_count": 7,
   "metadata": {},
   "outputs": [],
   "source": [
    "if DEBUG:\n",
    "\n",
    "    # Initialize a helper scorer to to assist in scoring the local predictions.\n",
    "    # Note that this is not the exact code used in the kaggle scoring system, but results should be nearly identical.\n",
    "    scorer = score.NFLAssignmentScorer(labels)\n",
    "\n",
    "    # Score the sample submission\n",
    "    ss_score = scorer.score(ss)\n",
    "    print(f'Sample submission scores: {ss_score:0.4f}')\n",
    "\n",
    "    # Score a submission with only impacts\n",
    "    perfect_impacts = labels.query('isDefinitiveImpact == True and isSidelinePlayer == False')\n",
    "    imp_score = scorer.score(perfect_impacts)\n",
    "    print(f'A submission with perfect predictions only for impacts scores: {imp_score:0.4f}')\n",
    "\n",
    "    # Score a submission with only non-impacts\n",
    "    perfect_nonimpacts = labels.query('isDefinitiveImpact == False and isSidelinePlayer == False')\n",
    "    nonimp_score = scorer.score(perfect_nonimpacts)\n",
    "    print(f'A submission with perfect predictions only for non-impacts scores: {nonimp_score:0.4f}')\n",
    "\n",
    "    # Score a perfect submission\n",
    "    perfect_train = labels.query('isSidelinePlayer == False')[SUBMISSION_COLUMNS].copy()\n",
    "    perfect_score = scorer.score(perfect_train)\n",
    "    print(f'A perfrect training submission scores: {perfect_score:0.4f}')"
   ]
  },
  {
   "cell_type": "markdown",
   "metadata": {},
   "source": [
    "After scoring, the sub_labels dataframe within the NFLAssignmentScorer object can be used to evaluate results including the iou between predictions and ground truth boxes and isCorrect for correct labels. Ground truth fields have the suffix _gt while submission fields have the suffix _sub."
   ]
  },
  {
   "cell_type": "code",
   "execution_count": 8,
   "metadata": {},
   "outputs": [],
   "source": [
    "if DEBUG:\n",
    "    scorer.sub_labels.head()"
   ]
  },
  {
   "cell_type": "markdown",
   "metadata": {},
   "source": [
    "### DISPLAY VIDEO"
   ]
  },
  {
   "cell_type": "code",
   "execution_count": 9,
   "metadata": {},
   "outputs": [],
   "source": [
    "game_play = \"57584_000336\"\n",
    "if DEBUG:\n",
    "    create_labeled_video = False\n",
    "    if create_labeled_video:\n",
    "        example_video = f'{DATA_DIR}/train/{game_play}_Sideline.mp4'\n",
    "        output_video_path = display.video_with_baseline_boxes(example_video, tr_helmets, labels)\n",
    "    else:\n",
    "        output_video_path = f'labeled_{game_play}_Sideline.mp4'\n",
    "    \n",
    "    display.video(output_video_path)"
   ]
  },
  {
   "cell_type": "markdown",
   "metadata": {},
   "source": [
    "### SYNCING"
   ]
  },
  {
   "cell_type": "code",
   "execution_count": 10,
   "metadata": {},
   "outputs": [],
   "source": [
    "# syncing the 2D data to the video frames\n",
    "tr_tracking = syncing.add_track_features(tr_tracking)\n",
    "te_tracking = syncing.add_track_features(te_tracking)"
   ]
  },
  {
   "cell_type": "code",
   "execution_count": 11,
   "metadata": {},
   "outputs": [
    {
     "data": {
      "text/html": [
       "<div>\n",
       "<style scoped>\n",
       "    .dataframe tbody tr th:only-of-type {\n",
       "        vertical-align: middle;\n",
       "    }\n",
       "\n",
       "    .dataframe tbody tr th {\n",
       "        vertical-align: top;\n",
       "    }\n",
       "\n",
       "    .dataframe thead th {\n",
       "        text-align: right;\n",
       "    }\n",
       "</style>\n",
       "<table border=\"1\" class=\"dataframe\">\n",
       "  <thead>\n",
       "    <tr style=\"text-align: right;\">\n",
       "      <th></th>\n",
       "      <th>gameKey</th>\n",
       "      <th>playID</th>\n",
       "      <th>player</th>\n",
       "      <th>time</th>\n",
       "      <th>x</th>\n",
       "      <th>y</th>\n",
       "      <th>s</th>\n",
       "      <th>a</th>\n",
       "      <th>dis</th>\n",
       "      <th>o</th>\n",
       "      <th>dir</th>\n",
       "      <th>event</th>\n",
       "      <th>game_play</th>\n",
       "      <th>snap</th>\n",
       "      <th>isSnap</th>\n",
       "      <th>team</th>\n",
       "      <th>snap_offset</th>\n",
       "      <th>est_frame</th>\n",
       "    </tr>\n",
       "  </thead>\n",
       "  <tbody>\n",
       "    <tr>\n",
       "      <th>0</th>\n",
       "      <td>57583</td>\n",
       "      <td>82</td>\n",
       "      <td>H97</td>\n",
       "      <td>2018-09-14 00:23:45.500000+00:00</td>\n",
       "      <td>38.89</td>\n",
       "      <td>28.06</td>\n",
       "      <td>0.0</td>\n",
       "      <td>0.00</td>\n",
       "      <td>0.00</td>\n",
       "      <td>261.28</td>\n",
       "      <td>222.79</td>\n",
       "      <td>NaN</td>\n",
       "      <td>57583_000082</td>\n",
       "      <td>2018-09-14 00:24:00.200000+00:00</td>\n",
       "      <td>False</td>\n",
       "      <td>Home</td>\n",
       "      <td>-14.700</td>\n",
       "      <td>-871</td>\n",
       "    </tr>\n",
       "    <tr>\n",
       "      <th>1</th>\n",
       "      <td>57583</td>\n",
       "      <td>82</td>\n",
       "      <td>H97</td>\n",
       "      <td>2018-09-14 00:23:45.599000+00:00</td>\n",
       "      <td>38.89</td>\n",
       "      <td>28.06</td>\n",
       "      <td>0.0</td>\n",
       "      <td>0.00</td>\n",
       "      <td>0.00</td>\n",
       "      <td>261.28</td>\n",
       "      <td>221.93</td>\n",
       "      <td>NaN</td>\n",
       "      <td>57583_000082</td>\n",
       "      <td>2018-09-14 00:24:00.200000+00:00</td>\n",
       "      <td>False</td>\n",
       "      <td>Home</td>\n",
       "      <td>-14.601</td>\n",
       "      <td>-865</td>\n",
       "    </tr>\n",
       "    <tr>\n",
       "      <th>2</th>\n",
       "      <td>57583</td>\n",
       "      <td>82</td>\n",
       "      <td>H97</td>\n",
       "      <td>2018-09-14 00:23:45.700000+00:00</td>\n",
       "      <td>38.89</td>\n",
       "      <td>28.06</td>\n",
       "      <td>0.0</td>\n",
       "      <td>0.00</td>\n",
       "      <td>0.00</td>\n",
       "      <td>261.28</td>\n",
       "      <td>221.21</td>\n",
       "      <td>NaN</td>\n",
       "      <td>57583_000082</td>\n",
       "      <td>2018-09-14 00:24:00.200000+00:00</td>\n",
       "      <td>False</td>\n",
       "      <td>Home</td>\n",
       "      <td>-14.500</td>\n",
       "      <td>-859</td>\n",
       "    </tr>\n",
       "    <tr>\n",
       "      <th>3</th>\n",
       "      <td>57583</td>\n",
       "      <td>82</td>\n",
       "      <td>H97</td>\n",
       "      <td>2018-09-14 00:23:45.799000+00:00</td>\n",
       "      <td>38.88</td>\n",
       "      <td>28.05</td>\n",
       "      <td>0.0</td>\n",
       "      <td>0.00</td>\n",
       "      <td>0.00</td>\n",
       "      <td>261.28</td>\n",
       "      <td>220.07</td>\n",
       "      <td>NaN</td>\n",
       "      <td>57583_000082</td>\n",
       "      <td>2018-09-14 00:24:00.200000+00:00</td>\n",
       "      <td>False</td>\n",
       "      <td>Home</td>\n",
       "      <td>-14.401</td>\n",
       "      <td>-853</td>\n",
       "    </tr>\n",
       "    <tr>\n",
       "      <th>4</th>\n",
       "      <td>57583</td>\n",
       "      <td>82</td>\n",
       "      <td>H97</td>\n",
       "      <td>2018-09-14 00:23:45.900000+00:00</td>\n",
       "      <td>38.88</td>\n",
       "      <td>28.05</td>\n",
       "      <td>0.0</td>\n",
       "      <td>0.00</td>\n",
       "      <td>0.00</td>\n",
       "      <td>261.28</td>\n",
       "      <td>220.31</td>\n",
       "      <td>NaN</td>\n",
       "      <td>57583_000082</td>\n",
       "      <td>2018-09-14 00:24:00.200000+00:00</td>\n",
       "      <td>False</td>\n",
       "      <td>Home</td>\n",
       "      <td>-14.300</td>\n",
       "      <td>-847</td>\n",
       "    </tr>\n",
       "    <tr>\n",
       "      <th>...</th>\n",
       "      <td>...</td>\n",
       "      <td>...</td>\n",
       "      <td>...</td>\n",
       "      <td>...</td>\n",
       "      <td>...</td>\n",
       "      <td>...</td>\n",
       "      <td>...</td>\n",
       "      <td>...</td>\n",
       "      <td>...</td>\n",
       "      <td>...</td>\n",
       "      <td>...</td>\n",
       "      <td>...</td>\n",
       "      <td>...</td>\n",
       "      <td>...</td>\n",
       "      <td>...</td>\n",
       "      <td>...</td>\n",
       "      <td>...</td>\n",
       "      <td>...</td>\n",
       "    </tr>\n",
       "    <tr>\n",
       "      <th>145</th>\n",
       "      <td>57583</td>\n",
       "      <td>82</td>\n",
       "      <td>H97</td>\n",
       "      <td>2018-09-14 00:24:00+00:00</td>\n",
       "      <td>35.56</td>\n",
       "      <td>28.89</td>\n",
       "      <td>0.0</td>\n",
       "      <td>0.00</td>\n",
       "      <td>0.00</td>\n",
       "      <td>248.30</td>\n",
       "      <td>51.27</td>\n",
       "      <td>NaN</td>\n",
       "      <td>57583_000082</td>\n",
       "      <td>2018-09-14 00:24:00.200000+00:00</td>\n",
       "      <td>False</td>\n",
       "      <td>Home</td>\n",
       "      <td>-0.200</td>\n",
       "      <td>-2</td>\n",
       "    </tr>\n",
       "    <tr>\n",
       "      <th>146</th>\n",
       "      <td>57583</td>\n",
       "      <td>82</td>\n",
       "      <td>H97</td>\n",
       "      <td>2018-09-14 00:24:00.099000+00:00</td>\n",
       "      <td>35.56</td>\n",
       "      <td>28.89</td>\n",
       "      <td>0.0</td>\n",
       "      <td>0.00</td>\n",
       "      <td>0.00</td>\n",
       "      <td>250.13</td>\n",
       "      <td>49.54</td>\n",
       "      <td>NaN</td>\n",
       "      <td>57583_000082</td>\n",
       "      <td>2018-09-14 00:24:00.200000+00:00</td>\n",
       "      <td>False</td>\n",
       "      <td>Home</td>\n",
       "      <td>-0.101</td>\n",
       "      <td>4</td>\n",
       "    </tr>\n",
       "    <tr>\n",
       "      <th>147</th>\n",
       "      <td>57583</td>\n",
       "      <td>82</td>\n",
       "      <td>H97</td>\n",
       "      <td>2018-09-14 00:24:00.200000+00:00</td>\n",
       "      <td>35.56</td>\n",
       "      <td>28.89</td>\n",
       "      <td>0.0</td>\n",
       "      <td>0.00</td>\n",
       "      <td>0.00</td>\n",
       "      <td>247.29</td>\n",
       "      <td>47.40</td>\n",
       "      <td>ball_snap</td>\n",
       "      <td>57583_000082</td>\n",
       "      <td>2018-09-14 00:24:00.200000+00:00</td>\n",
       "      <td>True</td>\n",
       "      <td>Home</td>\n",
       "      <td>0.000</td>\n",
       "      <td>10</td>\n",
       "    </tr>\n",
       "    <tr>\n",
       "      <th>148</th>\n",
       "      <td>57583</td>\n",
       "      <td>82</td>\n",
       "      <td>H97</td>\n",
       "      <td>2018-09-14 00:24:00.299000+00:00</td>\n",
       "      <td>35.56</td>\n",
       "      <td>28.89</td>\n",
       "      <td>0.0</td>\n",
       "      <td>0.00</td>\n",
       "      <td>0.00</td>\n",
       "      <td>253.11</td>\n",
       "      <td>46.71</td>\n",
       "      <td>NaN</td>\n",
       "      <td>57583_000082</td>\n",
       "      <td>2018-09-14 00:24:00.200000+00:00</td>\n",
       "      <td>False</td>\n",
       "      <td>Home</td>\n",
       "      <td>0.099</td>\n",
       "      <td>16</td>\n",
       "    </tr>\n",
       "    <tr>\n",
       "      <th>149</th>\n",
       "      <td>57583</td>\n",
       "      <td>82</td>\n",
       "      <td>H97</td>\n",
       "      <td>2018-09-14 00:24:00.400000+00:00</td>\n",
       "      <td>35.55</td>\n",
       "      <td>28.89</td>\n",
       "      <td>0.0</td>\n",
       "      <td>0.08</td>\n",
       "      <td>0.01</td>\n",
       "      <td>258.96</td>\n",
       "      <td>341.60</td>\n",
       "      <td>NaN</td>\n",
       "      <td>57583_000082</td>\n",
       "      <td>2018-09-14 00:24:00.200000+00:00</td>\n",
       "      <td>False</td>\n",
       "      <td>Home</td>\n",
       "      <td>0.200</td>\n",
       "      <td>22</td>\n",
       "    </tr>\n",
       "  </tbody>\n",
       "</table>\n",
       "<p>150 rows × 18 columns</p>\n",
       "</div>"
      ],
      "text/plain": [
       "     gameKey  playID player                             time      x      y  \\\n",
       "0      57583      82    H97 2018-09-14 00:23:45.500000+00:00  38.89  28.06   \n",
       "1      57583      82    H97 2018-09-14 00:23:45.599000+00:00  38.89  28.06   \n",
       "2      57583      82    H97 2018-09-14 00:23:45.700000+00:00  38.89  28.06   \n",
       "3      57583      82    H97 2018-09-14 00:23:45.799000+00:00  38.88  28.05   \n",
       "4      57583      82    H97 2018-09-14 00:23:45.900000+00:00  38.88  28.05   \n",
       "..       ...     ...    ...                              ...    ...    ...   \n",
       "145    57583      82    H97        2018-09-14 00:24:00+00:00  35.56  28.89   \n",
       "146    57583      82    H97 2018-09-14 00:24:00.099000+00:00  35.56  28.89   \n",
       "147    57583      82    H97 2018-09-14 00:24:00.200000+00:00  35.56  28.89   \n",
       "148    57583      82    H97 2018-09-14 00:24:00.299000+00:00  35.56  28.89   \n",
       "149    57583      82    H97 2018-09-14 00:24:00.400000+00:00  35.55  28.89   \n",
       "\n",
       "       s     a   dis       o     dir      event     game_play  \\\n",
       "0    0.0  0.00  0.00  261.28  222.79        NaN  57583_000082   \n",
       "1    0.0  0.00  0.00  261.28  221.93        NaN  57583_000082   \n",
       "2    0.0  0.00  0.00  261.28  221.21        NaN  57583_000082   \n",
       "3    0.0  0.00  0.00  261.28  220.07        NaN  57583_000082   \n",
       "4    0.0  0.00  0.00  261.28  220.31        NaN  57583_000082   \n",
       "..   ...   ...   ...     ...     ...        ...           ...   \n",
       "145  0.0  0.00  0.00  248.30   51.27        NaN  57583_000082   \n",
       "146  0.0  0.00  0.00  250.13   49.54        NaN  57583_000082   \n",
       "147  0.0  0.00  0.00  247.29   47.40  ball_snap  57583_000082   \n",
       "148  0.0  0.00  0.00  253.11   46.71        NaN  57583_000082   \n",
       "149  0.0  0.08  0.01  258.96  341.60        NaN  57583_000082   \n",
       "\n",
       "                                snap  isSnap  team  snap_offset  est_frame  \n",
       "0   2018-09-14 00:24:00.200000+00:00   False  Home      -14.700       -871  \n",
       "1   2018-09-14 00:24:00.200000+00:00   False  Home      -14.601       -865  \n",
       "2   2018-09-14 00:24:00.200000+00:00   False  Home      -14.500       -859  \n",
       "3   2018-09-14 00:24:00.200000+00:00   False  Home      -14.401       -853  \n",
       "4   2018-09-14 00:24:00.200000+00:00   False  Home      -14.300       -847  \n",
       "..                               ...     ...   ...          ...        ...  \n",
       "145 2018-09-14 00:24:00.200000+00:00   False  Home       -0.200         -2  \n",
       "146 2018-09-14 00:24:00.200000+00:00   False  Home       -0.101          4  \n",
       "147 2018-09-14 00:24:00.200000+00:00    True  Home        0.000         10  \n",
       "148 2018-09-14 00:24:00.200000+00:00   False  Home        0.099         16  \n",
       "149 2018-09-14 00:24:00.200000+00:00   False  Home        0.200         22  \n",
       "\n",
       "[150 rows x 18 columns]"
      ]
     },
     "execution_count": 11,
     "metadata": {},
     "output_type": "execute_result"
    }
   ],
   "source": [
    "tr_tracking.head(150)"
   ]
  },
  {
   "cell_type": "markdown",
   "metadata": {},
   "source": [
    "### DISPLAY ACTION"
   ]
  },
  {
   "cell_type": "code",
   "execution_count": 12,
   "metadata": {},
   "outputs": [],
   "source": [
    "if DEBUG:\n",
    "    game_play = \"57584_000336\"\n",
    "    event = 'ball_snap' # optional to indicate\n",
    "\n",
    "    # display the desired moments on the football field\n",
    "    example_tracks = ff.plot_action(tr_tracking, game_play, event)\n",
    "\n",
    "    # calculate the frame of the event\n",
    "    frame_number = example_tracks.est_frame.iloc[0]\n",
    "\n",
    "    # plot the event of the endzone camera\n",
    "    video_path = f\"{DATA_DIR}/train/{game_play}_Endzone.mp4\"\n",
    "    display.frame(video_path, frame_number, event)\n",
    "    # plot the event of the sideline camera\n",
    "    video_path = f\"{DATA_DIR}/train/{game_play}_Sideline.mp4\"\n",
    "    display.frame(video_path, frame_number, event)\n",
    "    # animate the action in the football field with plotly\n",
    "    tr_tracking = ff.animate_action(tr_tracking, game_play)\n"
   ]
  },
  {
   "cell_type": "code",
   "execution_count": null,
   "metadata": {},
   "outputs": [],
   "source": []
  },
  {
   "cell_type": "markdown",
   "metadata": {},
   "source": [
    "### LABELLING"
   ]
  },
  {
   "cell_type": "code",
   "execution_count": 13,
   "metadata": {},
   "outputs": [
    {
     "name": "stdout",
     "output_type": "stream",
     "text": [
      "Assigning helmets to players...\n"
     ]
    },
    {
     "name": "stderr",
     "output_type": "stream",
     "text": [
      "100%|██████████| 52141/52141 [00:22<00:00, 2293.86it/s]\n"
     ]
    },
    {
     "name": "stdout",
     "output_type": "stream",
     "text": [
      "Concatenating...\t\n",
      "Time: 36 seconds\n",
      "Score evaluation...\t\n",
      "Time: 61 seconds\n",
      "The score of random labels on the training set is 0.0418\n"
     ]
    }
   ],
   "source": [
    "train_submission = labelling.random_submission(tr_helmets, tr_tracking)\n",
    "# creating scorer\n",
    "scorer = score.NFLAssignmentScorer(labels)\n",
    "# evaluate score\n",
    "baseline_score = scorer.score(train_submission)\n",
    "print(f\"The score of random labels on the training set is {baseline_score:0.4f}\")"
   ]
  },
  {
   "cell_type": "code",
   "execution_count": null,
   "metadata": {},
   "outputs": [],
   "source": []
  }
 ],
 "metadata": {
  "interpreter": {
   "hash": "2f085177d059d5761203520111dfc43278547a7330307d70aa3608b645192c10"
  },
  "kernelspec": {
   "display_name": "Python 3.8.8 64-bit",
   "name": "python3"
  },
  "language_info": {
   "codemirror_mode": {
    "name": "ipython",
    "version": 3
   },
   "file_extension": ".py",
   "mimetype": "text/x-python",
   "name": "python",
   "nbconvert_exporter": "python",
   "pygments_lexer": "ipython3",
   "version": "3.8.8"
  },
  "orig_nbformat": 4
 },
 "nbformat": 4,
 "nbformat_minor": 2
}
