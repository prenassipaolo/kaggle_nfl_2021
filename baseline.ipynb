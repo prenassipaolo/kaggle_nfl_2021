{
 "cells": [
  {
   "cell_type": "markdown",
   "metadata": {},
   "source": [
    "### IMPORTS"
   ]
  },
  {
   "cell_type": "code",
   "execution_count": 16,
   "metadata": {},
   "outputs": [],
   "source": [
    "import numpy as np\n",
    "import pandas as pd\n",
    "import matplotlib.pylab as plt\n",
    "# auxiliary funtionsto import\n",
    "from utils import score, display, syncing"
   ]
  },
  {
   "cell_type": "code",
   "execution_count": null,
   "metadata": {},
   "outputs": [],
   "source": []
  },
  {
   "cell_type": "markdown",
   "metadata": {},
   "source": [
    "### LOAD DATA"
   ]
  },
  {
   "cell_type": "code",
   "execution_count": 2,
   "metadata": {},
   "outputs": [],
   "source": [
    "# Read in data files\n",
    "DATA_DIR = 'data/nfl-health-and-safety-helmet-assignment'"
   ]
  },
  {
   "cell_type": "code",
   "execution_count": 3,
   "metadata": {},
   "outputs": [],
   "source": [
    "# Labels and sample submission\n",
    "labels = pd.read_csv(f'{DATA_DIR}/train_labels.csv')\n",
    "ss = pd.read_csv(f'{DATA_DIR}/sample_submission.csv')\n",
    "\n",
    "# Player tracking data\n",
    "tr_tracking = pd.read_csv(f'{DATA_DIR}/train_player_tracking.csv')\n",
    "te_tracking = pd.read_csv(f'{DATA_DIR}/test_player_tracking.csv')\n",
    "\n",
    "# Baseline helmet detection labels\n",
    "tr_helmets = pd.read_csv(f'{DATA_DIR}/train_baseline_helmets.csv')\n",
    "te_helmets = pd.read_csv(f'{DATA_DIR}/test_baseline_helmets.csv')\n",
    "\n",
    "# Extra image labels\n",
    "img_labels = pd.read_csv(f'{DATA_DIR}/image_labels.csv')"
   ]
  },
  {
   "cell_type": "code",
   "execution_count": 4,
   "metadata": {},
   "outputs": [
    {
     "name": "stdout",
     "output_type": "stream",
     "text": [
      "SUBMISSION_COLUMNS: ['video_frame' 'label' 'left' 'width' 'top' 'height']\n"
     ]
    }
   ],
   "source": [
    "SUBMISSION_COLUMNS = ss.columns # Expected submission columns\n",
    "print(f'SUBMISSION_COLUMNS: {SUBMISSION_COLUMNS.values}')"
   ]
  },
  {
   "cell_type": "markdown",
   "metadata": {},
   "source": [
    "### SCORE"
   ]
  },
  {
   "cell_type": "code",
   "execution_count": 5,
   "metadata": {},
   "outputs": [
    {
     "data": {
      "text/plain": [
       "True"
      ]
     },
     "execution_count": 5,
     "metadata": {},
     "output_type": "execute_result"
    }
   ],
   "source": [
    "# The sample submission meets these requirements.\n",
    "score.check_submission(ss)"
   ]
  },
  {
   "cell_type": "code",
   "execution_count": 6,
   "metadata": {},
   "outputs": [],
   "source": [
    "compute_naive_scores = False\n",
    "\n",
    "if compute_naive_scores:\n",
    "\n",
    "    # Initialize a helper scorer to to assist in scoring the local predictions.\n",
    "    # Note that this is not the exact code used in the kaggle scoring system, but results should be nearly identical.\n",
    "    scorer = score.NFLAssignmentScorer(labels)\n",
    "\n",
    "    # Score the sample submission\n",
    "    ss_score = scorer.score(ss)\n",
    "    print(f'Sample submission scores: {ss_score:0.4f}')\n",
    "\n",
    "    # Score a submission with only impacts\n",
    "    perfect_impacts = labels.query('isDefinitiveImpact == True and isSidelinePlayer == False')\n",
    "    imp_score = scorer.score(perfect_impacts)\n",
    "    print(f'A submission with perfect predictions only for impacts scores: {imp_score:0.4f}')\n",
    "\n",
    "    # Score a submission with only non-impacts\n",
    "    perfect_nonimpacts = labels.query('isDefinitiveImpact == False and isSidelinePlayer == False')\n",
    "    nonimp_score = scorer.score(perfect_nonimpacts)\n",
    "    print(f'A submission with perfect predictions only for non-impacts scores: {nonimp_score:0.4f}')\n",
    "\n",
    "    # Score a perfect submission\n",
    "    perfect_train = labels.query('isSidelinePlayer == False')[SUBMISSION_COLUMNS].copy()\n",
    "    perfect_score = scorer.score(perfect_train)\n",
    "    print(f'A perfrect training submission scores: {perfect_score:0.4f}')"
   ]
  },
  {
   "cell_type": "markdown",
   "metadata": {},
   "source": [
    "After scoring, the sub_labels dataframe within the NFLAssignmentScorer object can be used to evaluate results including the iou between predictions and ground truth boxes and isCorrect for correct labels. Ground truth fields have the suffix _gt while submission fields have the suffix _sub."
   ]
  },
  {
   "cell_type": "code",
   "execution_count": 11,
   "metadata": {},
   "outputs": [],
   "source": [
    "if compute_naive_scores:\n",
    "    scorer.sub_labels.head()"
   ]
  },
  {
   "cell_type": "markdown",
   "metadata": {},
   "source": [
    "### DISPLAY"
   ]
  },
  {
   "cell_type": "code",
   "execution_count": 12,
   "metadata": {},
   "outputs": [],
   "source": [
    "create_labeled_video = False\n",
    "if create_labeled_video:\n",
    "    example_video = f'{DATA_DIR}/train/57584_000336_Sideline.mp4'\n",
    "    output_video_path = display.video_with_baseline_boxes(example_video, tr_helmets, labels)\n",
    "else:\n",
    "    output_video_path = 'labeled_57584_000336_Sideline.mp4'\n",
    "\n",
    "display.display_video(output_video_path)"
   ]
  },
  {
   "cell_type": "markdown",
   "metadata": {},
   "source": [
    "### SYNCING"
   ]
  },
  {
   "cell_type": "code",
   "execution_count": 17,
   "metadata": {},
   "outputs": [],
   "source": [
    "# syncing the 2D data to the video frames\n",
    "tr_tracking = syncing.add_track_features(tr_tracking)\n",
    "te_tracking = syncing.add_track_features(te_tracking)"
   ]
  }
 ],
 "metadata": {
  "interpreter": {
   "hash": "2f085177d059d5761203520111dfc43278547a7330307d70aa3608b645192c10"
  },
  "kernelspec": {
   "display_name": "Python 3.8.8 64-bit",
   "name": "python3"
  },
  "language_info": {
   "codemirror_mode": {
    "name": "ipython",
    "version": 3
   },
   "file_extension": ".py",
   "mimetype": "text/x-python",
   "name": "python",
   "nbconvert_exporter": "python",
   "pygments_lexer": "ipython3",
   "version": "3.8.8"
  },
  "orig_nbformat": 4
 },
 "nbformat": 4,
 "nbformat_minor": 2
}
