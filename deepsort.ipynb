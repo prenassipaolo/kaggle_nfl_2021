{
 "cells": [
  {
   "cell_type": "code",
   "execution_count": 12,
   "metadata": {},
   "outputs": [],
   "source": [
    "import pandas as pd\n",
    "import os\n",
    "# auxiliary funtions\n",
    "from utils import syncing\n",
    "from utils.rotation_camera_evaluation import mapping_df"
   ]
  },
  {
   "cell_type": "markdown",
   "metadata": {},
   "source": [
    "### LOAD DATA"
   ]
  },
  {
   "cell_type": "code",
   "execution_count": 8,
   "metadata": {},
   "outputs": [],
   "source": [
    "DATA_DIR = 'data/nfl-health-and-safety-helmet-assignment/'"
   ]
  },
  {
   "cell_type": "code",
   "execution_count": 9,
   "metadata": {},
   "outputs": [
    {
     "name": "stdout",
     "output_type": "stream",
     "text": [
      "debug = True\n"
     ]
    }
   ],
   "source": [
    "n_test_videos = len(os.listdir(DATA_DIR+'test/'))\n",
    "# Run in debug mode unless during submission\n",
    "if n_test_videos == 6:\n",
    "    debug = True\n",
    "else:\n",
    "    debug = False\n",
    "print(f\"debug = {debug}\")"
   ]
  },
  {
   "cell_type": "code",
   "execution_count": 10,
   "metadata": {},
   "outputs": [],
   "source": [
    "# Configurables\n",
    "n_debug_samples = 1\n",
    "random_state = 2020"
   ]
  },
  {
   "cell_type": "code",
   "execution_count": 5,
   "metadata": {},
   "outputs": [],
   "source": [
    "# Load data\n",
    "labels = pd.read_csv(f'{DATA_DIR}/train_labels.csv')\n",
    "if debug:\n",
    "    tracking = pd.read_csv(f'{DATA_DIR}/train_player_tracking.csv')\n",
    "    helmets = pd.read_csv(f'{DATA_DIR}/train_baseline_helmets.csv')\n",
    "else:\n",
    "    tracking = pd.read_csv(f'{DATA_DIR}/test_player_tracking.csv')\n",
    "    helmets = pd.read_csv(f'{DATA_DIR}/test_baseline_helmets.csv')\n",
    "    \n",
    "tracking = syncing.add_track_features(tracking)"
   ]
  },
  {
   "cell_type": "code",
   "execution_count": 6,
   "metadata": {},
   "outputs": [
    {
     "name": "stdout",
     "output_type": "stream",
     "text": [
      "tracking.shape = (7568, 18)\n",
      "helmets.shape = (8879, 8)\n",
      "labels.shape = (6254, 15)\n"
     ]
    }
   ],
   "source": [
    "if debug:\n",
    "    helmets = syncing.add_cols(helmets)\n",
    "    labels = syncing.add_cols(labels)\n",
    "    # Select `n_debug_samples` worth of videos to debug with\n",
    "    sample_videos = labels['video'].drop_duplicates() \\\n",
    "        .sample(n_debug_samples, random_state=random_state).tolist()\n",
    "    sample_gameplays = ['_'.join(x.split('_')[:2]) for x in sample_videos]\n",
    "    tracking = tracking[tracking['game_play'].isin(sample_gameplays)]\n",
    "    helmets = helmets[helmets['video'].isin(sample_videos)]\n",
    "    labels = labels[labels['video'].isin(sample_videos)]\n",
    "\n",
    "print(f'tracking.shape = {tracking.shape}')\n",
    "print(f'helmets.shape = {helmets.shape}')\n",
    "print(f'labels.shape = {labels.shape}')"
   ]
  },
  {
   "cell_type": "code",
   "execution_count": 14,
   "metadata": {},
   "outputs": [
    {
     "name": "stderr",
     "output_type": "stream",
     "text": [
      "  0%|          | 0/354 [00:00<?, ?it/s]\n"
     ]
    },
    {
     "ename": "TypeError",
     "evalue": "mapping_df() missing 1 required positional argument: 'tracking'",
     "output_type": "error",
     "traceback": [
      "\u001b[1;31m---------------------------------------------------------------------------\u001b[0m",
      "\u001b[1;31mTypeError\u001b[0m                                 Traceback (most recent call last)",
      "\u001b[1;32m~\\AppData\\Local\\Temp/ipykernel_20472/2721873676.py\u001b[0m in \u001b[0;36m<module>\u001b[1;34m\u001b[0m\n\u001b[0;32m      4\u001b[0m \u001b[1;32mwith\u001b[0m \u001b[0mtqdm\u001b[0m\u001b[1;33m(\u001b[0m\u001b[0mtotal\u001b[0m\u001b[1;33m=\u001b[0m\u001b[0mlen\u001b[0m\u001b[1;33m(\u001b[0m\u001b[0mdf_list\u001b[0m\u001b[1;33m)\u001b[0m\u001b[1;33m)\u001b[0m \u001b[1;32mas\u001b[0m \u001b[0mpbar\u001b[0m\u001b[1;33m:\u001b[0m\u001b[1;33m\u001b[0m\u001b[1;33m\u001b[0m\u001b[0m\n\u001b[0;32m      5\u001b[0m     \u001b[1;31m#for this_df in p.imap(mapping_df, df_list):\u001b[0m\u001b[1;33m\u001b[0m\u001b[1;33m\u001b[0m\u001b[1;33m\u001b[0m\u001b[0m\n\u001b[1;32m----> 6\u001b[1;33m     \u001b[1;32mfor\u001b[0m \u001b[0mthis_df\u001b[0m \u001b[1;32min\u001b[0m \u001b[0mmap\u001b[0m\u001b[1;33m(\u001b[0m\u001b[0mmapping_df\u001b[0m\u001b[1;33m(\u001b[0m\u001b[0mtracking\u001b[0m\u001b[1;33m)\u001b[0m\u001b[1;33m,\u001b[0m \u001b[0mdf_list\u001b[0m\u001b[1;33m)\u001b[0m\u001b[1;33m:\u001b[0m\u001b[1;33m\u001b[0m\u001b[1;33m\u001b[0m\u001b[0m\n\u001b[0m\u001b[0;32m      7\u001b[0m         \u001b[0msubmission_df_list\u001b[0m\u001b[1;33m.\u001b[0m\u001b[0mappend\u001b[0m\u001b[1;33m(\u001b[0m\u001b[0mthis_df\u001b[0m\u001b[1;33m)\u001b[0m\u001b[1;33m\u001b[0m\u001b[1;33m\u001b[0m\u001b[0m\n\u001b[0;32m      8\u001b[0m         \u001b[0mpbar\u001b[0m\u001b[1;33m.\u001b[0m\u001b[0mupdate\u001b[0m\u001b[1;33m(\u001b[0m\u001b[1;36m1\u001b[0m\u001b[1;33m)\u001b[0m\u001b[1;33m\u001b[0m\u001b[1;33m\u001b[0m\u001b[0m\n",
      "\u001b[1;31mTypeError\u001b[0m: mapping_df() missing 1 required positional argument: 'tracking'"
     ]
    }
   ],
   "source": [
    "submission_df = multiple_mapping(tracking, helmets)\n",
    "submission_df.to_csv('submission-baseline.csv', index=False)"
   ]
  },
  {
   "cell_type": "code",
   "execution_count": null,
   "metadata": {},
   "outputs": [],
   "source": []
  }
 ],
 "metadata": {
  "interpreter": {
   "hash": "2f085177d059d5761203520111dfc43278547a7330307d70aa3608b645192c10"
  },
  "kernelspec": {
   "display_name": "Python 3.8.8 64-bit",
   "name": "python3"
  },
  "language_info": {
   "codemirror_mode": {
    "name": "ipython",
    "version": 3
   },
   "file_extension": ".py",
   "mimetype": "text/x-python",
   "name": "python",
   "nbconvert_exporter": "python",
   "pygments_lexer": "ipython3",
   "version": "3.8.8"
  },
  "orig_nbformat": 4
 },
 "nbformat": 4,
 "nbformat_minor": 2
}
